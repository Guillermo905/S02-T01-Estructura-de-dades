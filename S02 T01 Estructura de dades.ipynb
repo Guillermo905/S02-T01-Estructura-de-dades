{
 "cells": [
  {
   "cell_type": "markdown",
   "id": "f6fe3cfc",
   "metadata": {},
   "source": [
    "# Exercici 1\n",
    "\n",
    "__Crea una llista que agrupi els mesos de l’any en trimestres (1T: Gener, Febrer i Març, 2T: Abril, Maig, Juny...), és a dir, una llista amb 4 llistes dins.__"
   ]
  },
  {
   "cell_type": "code",
   "execution_count": 2,
   "id": "7fc7fcf7",
   "metadata": {},
   "outputs": [
    {
     "name": "stdout",
     "output_type": "stream",
     "text": [
      "[['Gener', 'Febrer', 'Març'], ['Abril', 'Maig', 'Juny'], ['Juliol', 'Agost', 'Setembre'], ['Octubre', 'Novembre', 'Desembre']]\n"
     ]
    }
   ],
   "source": [
    "T1 = [\"Gener\", \"Febrer\", \"Març\"]\n",
    "T2 = [\"Abril\", \"Maig\", \"Juny\"]\n",
    "T3 = [\"Juliol\", \"Agost\", \"Setembre\"]\n",
    "T4 = [\"Octubre\", \"Novembre\", \"Desembre\"]\n",
    "Any = [T1, T2, T3, T4]\n",
    "print(Any)"
   ]
  },
  {
   "cell_type": "markdown",
   "id": "2cb9d3a7",
   "metadata": {},
   "source": [
    "# Exercici 2\n",
    "\n",
    "Crea un codi que et permeti accedir a:\n",
    "\n",
    "* El segon mes del primer trimestre\n",
    "* Els mesos del primer trimestre\n",
    "* Setembre i octubre\n"
   ]
  },
  {
   "cell_type": "code",
   "execution_count": 32,
   "id": "3caad4b7",
   "metadata": {},
   "outputs": [
    {
     "name": "stdout",
     "output_type": "stream",
     "text": [
      "Febrer\n"
     ]
    }
   ],
   "source": [
    "# Segon mes del primer trimestre\n",
    "\n",
    "print(Any[0][1])\n"
   ]
  },
  {
   "cell_type": "code",
   "execution_count": 14,
   "id": "44ef68c8",
   "metadata": {},
   "outputs": [
    {
     "name": "stdout",
     "output_type": "stream",
     "text": [
      "['Gener', 'Febrer', 'Març']\n"
     ]
    }
   ],
   "source": [
    "#Els mesos del primer trimestre\n",
    "print(Any[0])"
   ]
  },
  {
   "cell_type": "code",
   "execution_count": 15,
   "id": "c20b3cec",
   "metadata": {},
   "outputs": [
    {
     "name": "stdout",
     "output_type": "stream",
     "text": [
      "Mètode 1:\n",
      "Setembre Octubre\n",
      "Mètode 2:\n",
      "Setembre\n",
      "Octubre\n"
     ]
    }
   ],
   "source": [
    "#Setembre i octubre mètode 1\n",
    "print(\"Mètode 1:\")\n",
    "print(Any[2][2], Any[3][0])\n",
    "\n",
    "#Mètode 2\n",
    "print(\"Mètode 2:\")\n",
    "for x in range(len(Any)):\n",
    "    for i in range(len(Any[x])):\n",
    "        if Any[x][i] == \"Setembre\" or  Any[x][i]==\"Octubre\":\n",
    "            print(Any[x][i])\n",
    " \n",
    "\n",
    "\n"
   ]
  },
  {
   "cell_type": "markdown",
   "id": "50b08990",
   "metadata": {},
   "source": [
    "# Exercici 3\n",
    "\n",
    "__Crea una llista amb nombres desordenats i respon a les següents preguntes:__\n",
    "\n",
    "* Quants números hi ha?\n",
    "* Quantes vegades apareix el número 3\n",
    "* Quantes vegades apareixen els nombres 3 i 4?\n",
    "* Quin és el número més gran?\n",
    "* Quins són els 3 números més petits?\n",
    "* Quin és el rang d’aquesta llista?\n"
   ]
  },
  {
   "cell_type": "code",
   "execution_count": 1,
   "id": "071af596",
   "metadata": {},
   "outputs": [
    {
     "name": "stdout",
     "output_type": "stream",
     "text": [
      "Quants números hi ha?\n",
      "6\n",
      "Quantes vegades apareix el número 3\n",
      "Mètode 1\n",
      "0\n",
      "Mètode 2\n",
      "0\n",
      "Quantes vegades apareixen els nombres 3 i 4?\n",
      "1\n",
      "Quin és el número més gran?\n",
      "El  57\n",
      "Quins són els 3 números més petits?\n",
      "[4, 6, 8]\n",
      "Quin és el rang d’aquesta llista?\n",
      "range(0, 6)\n"
     ]
    }
   ],
   "source": [
    "num = [4,6,55,36,57,8]\n",
    "\n",
    "print(\"Quants números hi ha?\")\n",
    "print(len(num))\n",
    "\n",
    "print(\"Quantes vegades apareix el número 3\")\n",
    "print(\"Mètode 1\")\n",
    "el3 = [x  for x in num  if x == 3]\n",
    "print(len(el3))\n",
    "i=0\n",
    "print(\"Mètode 2\")\n",
    "for x in range(len(num)):\n",
    "  if(num[x] == 3):\n",
    "    i = i+1\n",
    "    \n",
    "print(i)\n",
    "\n",
    "print(\"Quantes vegades apareixen els nombres 3 i 4?\")\n",
    "el3 = [x  for x in num  if x == 3 or x== 4]\n",
    "print(len(el3))\n",
    "\n",
    "print(\"Quin és el número més gran?\")\n",
    "print(\"El \",max(num))\n",
    "\n",
    "print(\"Quins són els 3 números més petits?\")\n",
    "petit = []\n",
    "for i in range(3):\n",
    "    petit = petit + [min(num)]\n",
    "    num.remove(min(num))    \n",
    "\n",
    "print(petit)\n",
    "num = [4,6,55,36,57,8]\n",
    "\n",
    "print(\"Quin és el rang d’aquesta llista?\")\n",
    "print(range(len(num)))"
   ]
  },
  {
   "cell_type": "markdown",
   "id": "a8c7f4bc",
   "metadata": {},
   "source": [
    "# Exercici 4\n",
    "\n",
    "Crea un diccionari de la següent forma i respon a les preguntes:\n",
    "\n",
    "compra = { \"Pomes\" : {\"Qty\": 5, \"€\": 0.42}, \"Peres\" : {\"Qty\": 3, \"€\": 0.66} }\n",
    "\n",
    "* Afegeix alguna fruita més\n",
    "* Quant han costat les peres en total?\n",
    "* Quantes fruites hem comprat en total?\n",
    "* Quina és la fruita més cara?\n"
   ]
  },
  {
   "cell_type": "code",
   "execution_count": 73,
   "id": "d00ab785",
   "metadata": {},
   "outputs": [
    {
     "name": "stdout",
     "output_type": "stream",
     "text": [
      "Afegeix alguna fruita més\n",
      "Quant han costat les peres en total?\n",
      "Costen  1.98  €\n",
      "Quantes fruites hem comprat en total?\n",
      "Mètode 1\n",
      "S'han comprat  10\n",
      "Mètode 2\n",
      "10\n",
      "Quina és la fruita més cara?\n",
      "La fruita més cara són les  Taronges\n"
     ]
    }
   ],
   "source": [
    "compra = { \"Pomes\" : {\"Qty\": 5, \"€\": 0.42}, \"Peres\" : {\"Qty\": 3, \"€\": 0.66} }\n",
    "\n",
    "print(\"Afegeix alguna fruita més\")\n",
    "compra[\"Taronges\"] = {\"Qty\":2, \"€\": 0.85}\n",
    "\n",
    "print(\"Quant han costat les peres en total?\")\n",
    "print(\"Costen \",compra.get(\"Peres\").get(\"Qty\")*compra.get(\"Peres\").get(\"€\"), \" €\")\n",
    "\n",
    "print(\"Quantes fruites hem comprat en total?\")\n",
    "print(\"Mètode 1\")\n",
    "print(\"S'han comprat \", compra.get(\"Pomes\").get(\"Qty\")+ compra.get(\"Peres\").get(\"Qty\")+ compra.get(\"Taronges\").get(\"Qty\"))\n",
    "print(\"Mètode 2\")\n",
    "count = 0\n",
    "for x, y in compra.items():\n",
    "    for i,j in y.items():\n",
    "       if i in \"Qty\":\n",
    "         count = count+j\n",
    "            \n",
    "print(count)\n",
    "\n",
    "print(\"Quina és la fruita més cara?\")\n",
    "preu = {}\n",
    "for x,y in compra.items():\n",
    "    for i,j in y.items():\n",
    "        if i in \"€\":\n",
    "            preu[j] = x\n",
    "\n",
    "a = max(preu.keys())\n",
    "for x,y in preu.items():\n",
    "    if x==a:\n",
    "        print(\"La fruita més cara són les \", y)\n"
   ]
  }
 ],
 "metadata": {
  "kernelspec": {
   "display_name": "Python 3 (ipykernel)",
   "language": "python",
   "name": "python3"
  },
  "language_info": {
   "codemirror_mode": {
    "name": "ipython",
    "version": 3
   },
   "file_extension": ".py",
   "mimetype": "text/x-python",
   "name": "python",
   "nbconvert_exporter": "python",
   "pygments_lexer": "ipython3",
   "version": "3.9.7"
  }
 },
 "nbformat": 4,
 "nbformat_minor": 5
}
